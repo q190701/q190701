{
  "nbformat": 4,
  "nbformat_minor": 0,
  "metadata": {
    "colab": {
      "name": "audio.ipynb",
      "provenance": [],
      "collapsed_sections": [],
      "authorship_tag": "ABX9TyNawMeBqWbbO2SRTy8bcea5",
      "include_colab_link": true
    },
    "kernelspec": {
      "name": "python3",
      "display_name": "Python 3"
    },
    "language_info": {
      "name": "python"
    },
    "accelerator": "GPU",
    "gpuClass": "standard"
  },
  "cells": [
    {
      "cell_type": "markdown",
      "metadata": {
        "id": "view-in-github",
        "colab_type": "text"
      },
      "source": [
        "<a href=\"https://colab.research.google.com/github/q190701/q190701/blob/main/audio.ipynb\" target=\"_parent\"><img src=\"https://colab.research.google.com/assets/colab-badge.svg\" alt=\"Open In Colab\"/></a>"
      ]
    },
    {
      "cell_type": "markdown",
      "source": [
        "Kết nối với google drive"
      ],
      "metadata": {
        "id": "zeI5DgMRd78Z"
      }
    },
    {
      "cell_type": "code",
      "execution_count": null,
      "metadata": {
        "colab": {
          "base_uri": "https://localhost:8080/"
        },
        "id": "zkXxlbcFEyTT",
        "outputId": "7b7a962e-fe80-4d95-ed2c-1a04bc2f743c"
      },
      "outputs": [
        {
          "output_type": "stream",
          "name": "stdout",
          "text": [
            "Mounted at /content/drive\n"
          ]
        }
      ],
      "source": [
        "from google.colab import drive\n",
        "drive.mount('/content/drive')"
      ]
    },
    {
      "cell_type": "markdown",
      "source": [
        "Khai báo thư viện"
      ],
      "metadata": {
        "id": "oX4q2SeVeB0x"
      }
    },
    {
      "cell_type": "code",
      "source": [
        "import os\n",
        "import pathlib\n",
        "\n",
        "import matplotlib.pyplot as plt\n",
        "import numpy as np\n",
        "import seaborn as sns\n",
        "import tensorflow as tf\n",
        "\n",
        "from tensorflow.keras import layers\n",
        "from tensorflow.keras import models\n",
        "from IPython import display\n",
        "import pandas as pd\n",
        "from glob import glob \n",
        "import librosa as lr\n",
        "\n",
        "import pandas as pd\n",
        "\n",
        "##\n",
        "from keras.models import Sequential\n",
        "from keras.layers import Conv2D, MaxPooling2D, Activation, Dropout, Flatten, Dense\n",
        "from keras.preprocessing.image import ImageDataGenerator, load_img, img_to_array"
      ],
      "metadata": {
        "id": "nQ2sUChzFEga"
      },
      "execution_count": null,
      "outputs": []
    },
    {
      "cell_type": "markdown",
      "source": [
        "Tạo hàm chuyển đổi dữ liệu dạng wav sang quang phổ spectrogram"
      ],
      "metadata": {
        "id": "cS1ElXfEeFCo"
      }
    },
    {
      "cell_type": "code",
      "source": [
        "import soundfile as sf\n",
        "\n",
        "\n",
        "\n",
        "def get_wav_info(wav_file):\n",
        "    data, rate = sf.read(wav_file)\n",
        "    return data, rate\n",
        "\n",
        "\n",
        "def graph_spectrogram(wav_file):\n",
        "    data, rate = get_wav_info(wav_file)\n",
        "    nfft = 200 \n",
        "    fs = 8000 \n",
        "    noverlap = 120 \n",
        "    nchannels = data.ndim\n",
        "    if nchannels == 1:\n",
        "        pxx, freqs, bins, im = plt.specgram(data, nfft, fs, noverlap = noverlap)\n",
        "    elif nchannels == 2:\n",
        "        pxx, freqs, bins, im = plt.specgram(data[:,0], nfft, fs, noverlap = noverlap)\n",
        "    return pxx"
      ],
      "metadata": {
        "id": "P6Lp4HYUFGGb"
      },
      "execution_count": null,
      "outputs": []
    },
    {
      "cell_type": "markdown",
      "source": [
        "Kiểm tra số lượng các file"
      ],
      "metadata": {
        "id": "cP7wlg9AeM1J"
      }
    },
    {
      "cell_type": "code",
      "source": [
        "from glob import glob\n",
        "data_dir= '/content/drive/MyDrive/projectAI/test/cat'\n",
        "audio_files= glob(data_dir + '/*.png')\n",
        "len(audio_files)"
      ],
      "metadata": {
        "colab": {
          "base_uri": "https://localhost:8080/"
        },
        "id": "xIf3x6tuFIoA",
        "outputId": "280405aa-bd4c-4ef0-88b6-26e35f44b1fc"
      },
      "execution_count": null,
      "outputs": [
        {
          "output_type": "execute_result",
          "data": {
            "text/plain": [
              "164"
            ]
          },
          "metadata": {},
          "execution_count": 4
        }
      ]
    },
    {
      "cell_type": "markdown",
      "source": [
        "Vòng lặp chuyển đổi file"
      ],
      "metadata": {
        "id": "nogh_RAYeQM3"
      }
    },
    {
      "cell_type": "code",
      "source": [
        "import glob\n",
        "import IPython.display as ipd\n",
        "import librosa\n",
        "for filename in glob.glob(\"../content/drive/MyDrive/convert/animalsounds/rooster/*.wav\"):\n",
        "  #dem=0\n",
        "  dem=dem+1\n",
        "  ipd.display(ipd.Audio(filename))\n",
        "  # load the mp3 file\n",
        "  signal, sr = librosa.load(filename, duration=10)  # sr = sampling rate\n",
        "\n",
        "  get_wav_info(filename)\n",
        "  graph_spectrogram(filename)\n",
        "  #y=graph_spectrogram(filename)\n",
        "  plt.savefig('../content/drive/MyDrive/convert/train/rooster/%04d.png'%(dem), bbox_inches='tight')\n",
        "  plt.show()"
      ],
      "metadata": {
        "id": "wKmNMcvhFK1h"
      },
      "execution_count": null,
      "outputs": []
    },
    {
      "cell_type": "markdown",
      "source": [
        "Tạo các đường dẫn và bắt đầu dạy máy học"
      ],
      "metadata": {
        "id": "hkIuwjC3eUjp"
      }
    },
    {
      "cell_type": "code",
      "source": [
        "test_path= '/content/drive/MyDrive/projectAI/test'\n",
        "train_path= '/content/drive/MyDrive/projectAI/train'"
      ],
      "metadata": {
        "id": "xd58C46VFWzQ"
      },
      "execution_count": null,
      "outputs": []
    },
    {
      "cell_type": "code",
      "source": [
        "train_data = ImageDataGenerator(rescale = 1./255,\n",
        "                                   shear_range=0.3,\n",
        "                                   horizontal_flip=True,\n",
        "                                   vertical_flip=False,\n",
        "                                   zoom_range=0.3)\n",
        "test_data = ImageDataGenerator(rescale = 1./255)\n",
        "######\n",
        "train_generator=train_data.flow_from_directory(train_path,\n",
        "                                                  target_size=(252,381),\n",
        "                                                  batch_size=32,\n",
        "                                                  color_mode='rgb',\n",
        "                                                  class_mode='categorical')\n",
        "test_generator=test_data.flow_from_directory(test_path,\n",
        "                                                  target_size=(252,381),\n",
        "                                                  batch_size=32,\n",
        "                                                  color_mode='rgb',\n",
        "                                                  class_mode='categorical')"
      ],
      "metadata": {
        "colab": {
          "base_uri": "https://localhost:8080/"
        },
        "id": "V6xiWeTNFa5L",
        "outputId": "49271c93-6d8f-4004-b9eb-71596ffed6cd"
      },
      "execution_count": null,
      "outputs": [
        {
          "output_type": "stream",
          "name": "stdout",
          "text": [
            "Found 924 images belonging to 10 classes.\n",
            "Found 924 images belonging to 10 classes.\n"
          ]
        }
      ]
    },
    {
      "cell_type": "markdown",
      "source": [
        "Tạo model"
      ],
      "metadata": {
        "id": "aZvFOZ4WeYYu"
      }
    },
    {
      "cell_type": "code",
      "source": [
        "model = Sequential()\n",
        "model.add(Conv2D(32, (3, 3), padding='same',\n",
        "                 input_shape=(252,381,3)))\n",
        "model.add(Activation('relu'))\n",
        "model.add(Conv2D(64, (3, 3)))\n",
        "model.add(Activation('relu'))\n",
        "model.add(MaxPooling2D(pool_size=(2, 2)))\n",
        "model.add(Dropout(0.25))\n",
        "model.add(Conv2D(64, (3, 3), padding='same'))\n",
        "model.add(Activation('relu'))\n",
        "model.add(Conv2D(64, (3, 3)))\n",
        "model.add(Activation('relu'))\n",
        "model.add(MaxPooling2D(pool_size=(2, 2)))\n",
        "model.add(Dropout(0.5))\n",
        "model.add(Conv2D(128, (3, 3), padding='same'))\n",
        "model.add(Activation('relu'))\n",
        "model.add(Conv2D(128, (3, 3)))\n",
        "model.add(Activation('relu'))\n",
        "model.add(MaxPooling2D(pool_size=(2, 2)))\n",
        "model.add(Dropout(0.5))\n",
        "model.add(Flatten())\n",
        "model.add(Dense(512))\n",
        "model.add(Activation('relu'))\n",
        "model.add(Dropout(0.5))\n",
        "model.add(Dense(10, activation='softmax'))\n",
        "#model.compile(optimizers.rmsprop(lr=0.0005, decay=1e-6),loss=\"categorical_crossentropy\",metrics=[\"accuracy\"])\n",
        "model.summary()"
      ],
      "metadata": {
        "colab": {
          "base_uri": "https://localhost:8080/"
        },
        "id": "ZyswtL73FdyH",
        "outputId": "e4072d8a-e4d1-41f8-e721-c989d0ccd7d1"
      },
      "execution_count": null,
      "outputs": [
        {
          "output_type": "stream",
          "name": "stdout",
          "text": [
            "Model: \"sequential\"\n",
            "_________________________________________________________________\n",
            " Layer (type)                Output Shape              Param #   \n",
            "=================================================================\n",
            " conv2d (Conv2D)             (None, 252, 381, 32)      896       \n",
            "                                                                 \n",
            " activation (Activation)     (None, 252, 381, 32)      0         \n",
            "                                                                 \n",
            " conv2d_1 (Conv2D)           (None, 250, 379, 64)      18496     \n",
            "                                                                 \n",
            " activation_1 (Activation)   (None, 250, 379, 64)      0         \n",
            "                                                                 \n",
            " max_pooling2d (MaxPooling2D  (None, 125, 189, 64)     0         \n",
            " )                                                               \n",
            "                                                                 \n",
            " dropout (Dropout)           (None, 125, 189, 64)      0         \n",
            "                                                                 \n",
            " conv2d_2 (Conv2D)           (None, 125, 189, 64)      36928     \n",
            "                                                                 \n",
            " activation_2 (Activation)   (None, 125, 189, 64)      0         \n",
            "                                                                 \n",
            " conv2d_3 (Conv2D)           (None, 123, 187, 64)      36928     \n",
            "                                                                 \n",
            " activation_3 (Activation)   (None, 123, 187, 64)      0         \n",
            "                                                                 \n",
            " max_pooling2d_1 (MaxPooling  (None, 61, 93, 64)       0         \n",
            " 2D)                                                             \n",
            "                                                                 \n",
            " dropout_1 (Dropout)         (None, 61, 93, 64)        0         \n",
            "                                                                 \n",
            " conv2d_4 (Conv2D)           (None, 61, 93, 128)       73856     \n",
            "                                                                 \n",
            " activation_4 (Activation)   (None, 61, 93, 128)       0         \n",
            "                                                                 \n",
            " conv2d_5 (Conv2D)           (None, 59, 91, 128)       147584    \n",
            "                                                                 \n",
            " activation_5 (Activation)   (None, 59, 91, 128)       0         \n",
            "                                                                 \n",
            " max_pooling2d_2 (MaxPooling  (None, 29, 45, 128)      0         \n",
            " 2D)                                                             \n",
            "                                                                 \n",
            " dropout_2 (Dropout)         (None, 29, 45, 128)       0         \n",
            "                                                                 \n",
            " flatten (Flatten)           (None, 167040)            0         \n",
            "                                                                 \n",
            " dense (Dense)               (None, 512)               85524992  \n",
            "                                                                 \n",
            " activation_6 (Activation)   (None, 512)               0         \n",
            "                                                                 \n",
            " dropout_3 (Dropout)         (None, 512)               0         \n",
            "                                                                 \n",
            " dense_1 (Dense)             (None, 10)                5130      \n",
            "                                                                 \n",
            "=================================================================\n",
            "Total params: 85,844,810\n",
            "Trainable params: 85,844,810\n",
            "Non-trainable params: 0\n",
            "_________________________________________________________________\n"
          ]
        }
      ]
    },
    {
      "cell_type": "markdown",
      "source": [
        "Train model"
      ],
      "metadata": {
        "id": "CA8-gcYwebvW"
      }
    },
    {
      "cell_type": "code",
      "source": [
        "model.compile(loss='categorical_crossentropy',optimizer='SGD',metrics = 'accuracy')"
      ],
      "metadata": {
        "id": "YUh0iaiUFgAZ"
      },
      "execution_count": null,
      "outputs": []
    },
    {
      "cell_type": "code",
      "source": [
        "history=model.fit(train_generator,\n",
        "                  steps_per_epoch= 20,\n",
        "                  epochs=200,\n",
        "                  batch_size=128,\n",
        "                  validation_data= test_generator,\n",
        "                  validation_steps=50)"
      ],
      "metadata": {
        "colab": {
          "base_uri": "https://localhost:8080/"
        },
        "id": "DQTiSZwUFi7d",
        "outputId": "a190603d-8cf4-4053-b195-b684a0b32353"
      },
      "execution_count": null,
      "outputs": [
        {
          "output_type": "stream",
          "name": "stdout",
          "text": [
            "Epoch 1/200\n",
            "20/20 [==============================] - ETA: 0s - loss: 2.2460 - accuracy: 0.1871WARNING:tensorflow:Your input ran out of data; interrupting training. Make sure that your dataset or generator can generate at least `steps_per_epoch * epochs` batches (in this case, 50 batches). You may need to use the repeat() function when building your dataset.\n",
            "20/20 [==============================] - 327s 16s/step - loss: 2.2460 - accuracy: 0.1871 - val_loss: 2.2630 - val_accuracy: 0.1775\n",
            "Epoch 2/200\n",
            "20/20 [==============================] - 39s 2s/step - loss: 2.2416 - accuracy: 0.1698\n",
            "Epoch 3/200\n",
            "20/20 [==============================] - 22s 1s/step - loss: 2.2166 - accuracy: 0.1781\n",
            "Epoch 4/200\n",
            "20/20 [==============================] - 21s 1s/step - loss: 2.2263 - accuracy: 0.1719\n",
            "Epoch 5/200\n",
            "20/20 [==============================] - 18s 892ms/step - loss: 2.2340 - accuracy: 0.1797\n",
            "Epoch 6/200\n",
            "20/20 [==============================] - 18s 880ms/step - loss: 2.2268 - accuracy: 0.1651\n",
            "Epoch 7/200\n",
            "20/20 [==============================] - 18s 872ms/step - loss: 2.2336 - accuracy: 0.1813\n",
            "Epoch 8/200\n",
            "20/20 [==============================] - 18s 886ms/step - loss: 2.1977 - accuracy: 0.1840\n",
            "Epoch 9/200\n",
            "20/20 [==============================] - 17s 861ms/step - loss: 2.1912 - accuracy: 0.1965\n",
            "Epoch 10/200\n",
            "20/20 [==============================] - 17s 844ms/step - loss: 2.1992 - accuracy: 0.1950\n",
            "Epoch 11/200\n",
            "20/20 [==============================] - 17s 853ms/step - loss: 2.1886 - accuracy: 0.1887\n",
            "Epoch 12/200\n",
            "20/20 [==============================] - 19s 918ms/step - loss: 2.1759 - accuracy: 0.2234\n",
            "Epoch 13/200\n",
            "20/20 [==============================] - 17s 845ms/step - loss: 2.1852 - accuracy: 0.2031\n",
            "Epoch 14/200\n",
            "20/20 [==============================] - 17s 862ms/step - loss: 2.1744 - accuracy: 0.2170\n",
            "Epoch 15/200\n",
            "20/20 [==============================] - 17s 847ms/step - loss: 2.1522 - accuracy: 0.2453\n",
            "Epoch 16/200\n",
            "20/20 [==============================] - 17s 848ms/step - loss: 2.1408 - accuracy: 0.2374\n",
            "Epoch 17/200\n",
            "20/20 [==============================] - 17s 857ms/step - loss: 2.1397 - accuracy: 0.2170\n",
            "Epoch 18/200\n",
            "20/20 [==============================] - 17s 849ms/step - loss: 2.1351 - accuracy: 0.2217\n",
            "Epoch 19/200\n",
            "20/20 [==============================] - 18s 864ms/step - loss: 2.0979 - accuracy: 0.2484\n",
            "Epoch 20/200\n",
            "20/20 [==============================] - 17s 855ms/step - loss: 2.0876 - accuracy: 0.2720\n",
            "Epoch 21/200\n",
            "20/20 [==============================] - 17s 845ms/step - loss: 2.0461 - accuracy: 0.2673\n",
            "Epoch 22/200\n",
            "20/20 [==============================] - 17s 853ms/step - loss: 2.0704 - accuracy: 0.2657\n",
            "Epoch 23/200\n",
            "20/20 [==============================] - 18s 872ms/step - loss: 2.0492 - accuracy: 0.2906\n",
            "Epoch 24/200\n",
            "20/20 [==============================] - 17s 847ms/step - loss: 2.0862 - accuracy: 0.2736\n",
            "Epoch 25/200\n",
            "20/20 [==============================] - 17s 833ms/step - loss: 2.0369 - accuracy: 0.2689\n",
            "Epoch 26/200\n",
            "20/20 [==============================] - 17s 861ms/step - loss: 2.0603 - accuracy: 0.2344\n",
            "Epoch 27/200\n",
            "20/20 [==============================] - 17s 845ms/step - loss: 2.0306 - accuracy: 0.2626\n",
            "Epoch 28/200\n",
            "20/20 [==============================] - 17s 834ms/step - loss: 2.0225 - accuracy: 0.2797\n",
            "Epoch 29/200\n",
            "20/20 [==============================] - 17s 840ms/step - loss: 2.0024 - accuracy: 0.2672\n",
            "Epoch 30/200\n",
            "20/20 [==============================] - 17s 834ms/step - loss: 2.0248 - accuracy: 0.2672\n",
            "Epoch 31/200\n",
            "20/20 [==============================] - 17s 837ms/step - loss: 1.9796 - accuracy: 0.2877\n",
            "Epoch 32/200\n",
            "20/20 [==============================] - 17s 838ms/step - loss: 1.9940 - accuracy: 0.2830\n",
            "Epoch 33/200\n",
            "20/20 [==============================] - 17s 830ms/step - loss: 1.9532 - accuracy: 0.3129\n",
            "Epoch 34/200\n",
            "20/20 [==============================] - 17s 839ms/step - loss: 1.9772 - accuracy: 0.3286\n",
            "Epoch 35/200\n",
            "20/20 [==============================] - 18s 901ms/step - loss: 2.0020 - accuracy: 0.2783\n",
            "Epoch 36/200\n",
            "20/20 [==============================] - 17s 834ms/step - loss: 1.9458 - accuracy: 0.3129\n",
            "Epoch 37/200\n",
            "20/20 [==============================] - 17s 831ms/step - loss: 1.9682 - accuracy: 0.2940\n",
            "Epoch 38/200\n",
            "20/20 [==============================] - 17s 834ms/step - loss: 1.9140 - accuracy: 0.3318\n",
            "Epoch 39/200\n",
            "20/20 [==============================] - 17s 848ms/step - loss: 1.9427 - accuracy: 0.3082\n",
            "Epoch 40/200\n",
            "20/20 [==============================] - 17s 843ms/step - loss: 1.9479 - accuracy: 0.3239\n",
            "Epoch 41/200\n",
            "20/20 [==============================] - 17s 839ms/step - loss: 1.9394 - accuracy: 0.3082\n",
            "Epoch 42/200\n",
            "20/20 [==============================] - 17s 844ms/step - loss: 1.9195 - accuracy: 0.3066\n",
            "Epoch 43/200\n",
            "20/20 [==============================] - 17s 825ms/step - loss: 1.9211 - accuracy: 0.3239\n",
            "Epoch 44/200\n",
            "20/20 [==============================] - 17s 834ms/step - loss: 1.8978 - accuracy: 0.3145\n",
            "Epoch 45/200\n",
            "20/20 [==============================] - 17s 850ms/step - loss: 1.8865 - accuracy: 0.3266\n",
            "Epoch 46/200\n",
            "20/20 [==============================] - 17s 842ms/step - loss: 1.8956 - accuracy: 0.3223\n",
            "Epoch 47/200\n",
            "20/20 [==============================] - 18s 907ms/step - loss: 1.8935 - accuracy: 0.3255\n",
            "Epoch 48/200\n",
            "20/20 [==============================] - 17s 847ms/step - loss: 1.9162 - accuracy: 0.3129\n",
            "Epoch 49/200\n",
            "20/20 [==============================] - 17s 842ms/step - loss: 1.8585 - accuracy: 0.3239\n",
            "Epoch 50/200\n",
            "20/20 [==============================] - 17s 836ms/step - loss: 1.8688 - accuracy: 0.3349\n",
            "Epoch 51/200\n",
            "20/20 [==============================] - 17s 839ms/step - loss: 1.8215 - accuracy: 0.3097\n",
            "Epoch 52/200\n",
            "20/20 [==============================] - 17s 844ms/step - loss: 1.8692 - accuracy: 0.3475\n",
            "Epoch 53/200\n",
            "20/20 [==============================] - 17s 851ms/step - loss: 1.8238 - accuracy: 0.3594\n",
            "Epoch 54/200\n",
            "20/20 [==============================] - 17s 860ms/step - loss: 1.8392 - accuracy: 0.3522\n",
            "Epoch 55/200\n",
            "20/20 [==============================] - 17s 836ms/step - loss: 1.8592 - accuracy: 0.3145\n",
            "Epoch 56/200\n",
            "20/20 [==============================] - 17s 842ms/step - loss: 1.8614 - accuracy: 0.3522\n",
            "Epoch 57/200\n",
            "20/20 [==============================] - 18s 867ms/step - loss: 1.8258 - accuracy: 0.3516\n",
            "Epoch 58/200\n",
            "20/20 [==============================] - 19s 915ms/step - loss: 1.8558 - accuracy: 0.3711\n",
            "Epoch 59/200\n",
            "20/20 [==============================] - 17s 840ms/step - loss: 1.8346 - accuracy: 0.3585\n",
            "Epoch 60/200\n",
            "20/20 [==============================] - 17s 843ms/step - loss: 1.7938 - accuracy: 0.3978\n",
            "Epoch 61/200\n",
            "20/20 [==============================] - 17s 841ms/step - loss: 1.7956 - accuracy: 0.3805\n",
            "Epoch 62/200\n",
            "20/20 [==============================] - 17s 835ms/step - loss: 1.7582 - accuracy: 0.3899\n",
            "Epoch 63/200\n",
            "20/20 [==============================] - 17s 837ms/step - loss: 1.7478 - accuracy: 0.3774\n",
            "Epoch 64/200\n",
            "20/20 [==============================] - 17s 859ms/step - loss: 1.7865 - accuracy: 0.3868\n",
            "Epoch 65/200\n",
            "20/20 [==============================] - 17s 857ms/step - loss: 1.7863 - accuracy: 0.3758\n",
            "Epoch 66/200\n",
            "20/20 [==============================] - 17s 859ms/step - loss: 1.7424 - accuracy: 0.4057\n",
            "Epoch 67/200\n",
            "20/20 [==============================] - 18s 882ms/step - loss: 1.7586 - accuracy: 0.4172\n",
            "Epoch 68/200\n",
            "20/20 [==============================] - 17s 854ms/step - loss: 1.7583 - accuracy: 0.3906\n",
            "Epoch 69/200\n",
            "20/20 [==============================] - 17s 847ms/step - loss: 1.6952 - accuracy: 0.4230\n",
            "Epoch 70/200\n",
            "20/20 [==============================] - 18s 905ms/step - loss: 1.7223 - accuracy: 0.3931\n",
            "Epoch 71/200\n",
            "20/20 [==============================] - 17s 842ms/step - loss: 1.7166 - accuracy: 0.4016\n",
            "Epoch 72/200\n",
            "20/20 [==============================] - 17s 843ms/step - loss: 1.7032 - accuracy: 0.4119\n",
            "Epoch 73/200\n",
            "20/20 [==============================] - 17s 847ms/step - loss: 1.7391 - accuracy: 0.4125\n",
            "Epoch 74/200\n",
            "20/20 [==============================] - 17s 837ms/step - loss: 1.6911 - accuracy: 0.4167\n",
            "Epoch 75/200\n",
            "20/20 [==============================] - 17s 845ms/step - loss: 1.7145 - accuracy: 0.4214\n",
            "Epoch 76/200\n",
            "20/20 [==============================] - 17s 851ms/step - loss: 1.6931 - accuracy: 0.4434\n",
            "Epoch 77/200\n",
            "20/20 [==============================] - 17s 838ms/step - loss: 1.6550 - accuracy: 0.4513\n",
            "Epoch 78/200\n",
            "20/20 [==============================] - 17s 833ms/step - loss: 1.6618 - accuracy: 0.4308\n",
            "Epoch 79/200\n",
            "20/20 [==============================] - 17s 844ms/step - loss: 1.6662 - accuracy: 0.4387\n",
            "Epoch 80/200\n",
            "20/20 [==============================] - 17s 849ms/step - loss: 1.6731 - accuracy: 0.4234\n",
            "Epoch 81/200\n",
            "20/20 [==============================] - 17s 839ms/step - loss: 1.6619 - accuracy: 0.4403\n",
            "Epoch 82/200\n",
            "20/20 [==============================] - 18s 906ms/step - loss: 1.6457 - accuracy: 0.4308\n",
            "Epoch 83/200\n",
            "20/20 [==============================] - 17s 844ms/step - loss: 1.6563 - accuracy: 0.4418\n",
            "Epoch 84/200\n",
            "20/20 [==============================] - 17s 834ms/step - loss: 1.6624 - accuracy: 0.4308\n",
            "Epoch 85/200\n",
            "20/20 [==============================] - 17s 858ms/step - loss: 1.6392 - accuracy: 0.4422\n",
            "Epoch 86/200\n",
            "20/20 [==============================] - 17s 843ms/step - loss: 1.6077 - accuracy: 0.4328\n",
            "Epoch 87/200\n",
            "20/20 [==============================] - 17s 847ms/step - loss: 1.6077 - accuracy: 0.4500\n",
            "Epoch 88/200\n",
            "20/20 [==============================] - 17s 850ms/step - loss: 1.5990 - accuracy: 0.4418\n",
            "Epoch 89/200\n",
            "20/20 [==============================] - 17s 836ms/step - loss: 1.5991 - accuracy: 0.4151\n",
            "Epoch 90/200\n",
            "20/20 [==============================] - 17s 854ms/step - loss: 1.6047 - accuracy: 0.4797\n",
            "Epoch 91/200\n",
            "20/20 [==============================] - 17s 851ms/step - loss: 1.5518 - accuracy: 0.4453\n",
            "Epoch 92/200\n",
            "20/20 [==============================] - 17s 836ms/step - loss: 1.5504 - accuracy: 0.4764\n",
            "Epoch 93/200\n",
            "20/20 [==============================] - 17s 841ms/step - loss: 1.5913 - accuracy: 0.4843\n",
            "Epoch 94/200\n",
            "20/20 [==============================] - 18s 910ms/step - loss: 1.5684 - accuracy: 0.4560\n",
            "Epoch 95/200\n",
            "20/20 [==============================] - 17s 843ms/step - loss: 1.5266 - accuracy: 0.4670\n",
            "Epoch 96/200\n",
            "20/20 [==============================] - 17s 843ms/step - loss: 1.5548 - accuracy: 0.4686\n",
            "Epoch 97/200\n",
            "20/20 [==============================] - 17s 841ms/step - loss: 1.5651 - accuracy: 0.4560\n",
            "Epoch 98/200\n",
            "20/20 [==============================] - 17s 844ms/step - loss: 1.4965 - accuracy: 0.4811\n",
            "Epoch 99/200\n",
            "20/20 [==============================] - 17s 839ms/step - loss: 1.5383 - accuracy: 0.4811\n",
            "Epoch 100/200\n",
            "20/20 [==============================] - 17s 838ms/step - loss: 1.5357 - accuracy: 0.4764\n",
            "Epoch 101/200\n",
            "20/20 [==============================] - 17s 844ms/step - loss: 1.5561 - accuracy: 0.4670\n",
            "Epoch 102/200\n",
            "20/20 [==============================] - 17s 835ms/step - loss: 1.4772 - accuracy: 0.4811\n",
            "Epoch 103/200\n",
            "20/20 [==============================] - 17s 832ms/step - loss: 1.4794 - accuracy: 0.5031\n",
            "Epoch 104/200\n",
            "20/20 [==============================] - 17s 849ms/step - loss: 1.4750 - accuracy: 0.4906\n",
            "Epoch 105/200\n",
            "20/20 [==============================] - 17s 835ms/step - loss: 1.4929 - accuracy: 0.5110\n",
            "Epoch 106/200\n",
            "20/20 [==============================] - 18s 864ms/step - loss: 1.4469 - accuracy: 0.5297\n",
            "Epoch 107/200\n",
            "20/20 [==============================] - 17s 845ms/step - loss: 1.4509 - accuracy: 0.5126\n",
            "Epoch 108/200\n",
            "20/20 [==============================] - 17s 834ms/step - loss: 1.5041 - accuracy: 0.5063\n",
            "Epoch 109/200\n",
            "20/20 [==============================] - 17s 836ms/step - loss: 1.4402 - accuracy: 0.5220\n",
            "Epoch 110/200\n",
            "20/20 [==============================] - 17s 848ms/step - loss: 1.3972 - accuracy: 0.5393\n",
            "Epoch 111/200\n",
            "20/20 [==============================] - 17s 839ms/step - loss: 1.4533 - accuracy: 0.5000\n",
            "Epoch 112/200\n",
            "20/20 [==============================] - 17s 847ms/step - loss: 1.4396 - accuracy: 0.5173\n",
            "Epoch 113/200\n",
            "20/20 [==============================] - 17s 846ms/step - loss: 1.3230 - accuracy: 0.5267\n",
            "Epoch 114/200\n",
            "20/20 [==============================] - 17s 838ms/step - loss: 1.3709 - accuracy: 0.5456\n",
            "Epoch 115/200\n",
            "20/20 [==============================] - 17s 840ms/step - loss: 1.3144 - accuracy: 0.5672\n",
            "Epoch 116/200\n",
            "20/20 [==============================] - 17s 843ms/step - loss: 1.4291 - accuracy: 0.5359\n",
            "Epoch 117/200\n",
            "20/20 [==============================] - 17s 850ms/step - loss: 1.4106 - accuracy: 0.4937\n",
            "Epoch 118/200\n",
            "20/20 [==============================] - 18s 901ms/step - loss: 1.3894 - accuracy: 0.5377\n",
            "Epoch 119/200\n",
            "20/20 [==============================] - 17s 848ms/step - loss: 1.4052 - accuracy: 0.5141\n",
            "Epoch 120/200\n",
            "20/20 [==============================] - 17s 846ms/step - loss: 1.3500 - accuracy: 0.5469\n",
            "Epoch 121/200\n",
            "20/20 [==============================] - 17s 838ms/step - loss: 1.3364 - accuracy: 0.5425\n",
            "Epoch 122/200\n",
            "20/20 [==============================] - 17s 839ms/step - loss: 1.3035 - accuracy: 0.5566\n",
            "Epoch 123/200\n",
            "20/20 [==============================] - 17s 850ms/step - loss: 1.3493 - accuracy: 0.5425\n",
            "Epoch 124/200\n",
            "20/20 [==============================] - 17s 835ms/step - loss: 1.3822 - accuracy: 0.5252\n",
            "Epoch 125/200\n",
            "20/20 [==============================] - 17s 843ms/step - loss: 1.2969 - accuracy: 0.5578\n",
            "Epoch 126/200\n",
            "20/20 [==============================] - 17s 848ms/step - loss: 1.2611 - accuracy: 0.5786\n",
            "Epoch 127/200\n",
            "20/20 [==============================] - 17s 830ms/step - loss: 1.2815 - accuracy: 0.5550\n",
            "Epoch 128/200\n",
            "20/20 [==============================] - 17s 850ms/step - loss: 1.2727 - accuracy: 0.5708\n",
            "Epoch 129/200\n",
            "20/20 [==============================] - 17s 851ms/step - loss: 1.2834 - accuracy: 0.5516\n",
            "Epoch 130/200\n",
            "20/20 [==============================] - 18s 902ms/step - loss: 1.2666 - accuracy: 0.5656\n",
            "Epoch 131/200\n",
            "20/20 [==============================] - 17s 831ms/step - loss: 1.2402 - accuracy: 0.5692\n",
            "Epoch 132/200\n",
            "20/20 [==============================] - 17s 841ms/step - loss: 1.2543 - accuracy: 0.6031\n",
            "Epoch 133/200\n",
            "20/20 [==============================] - 17s 843ms/step - loss: 1.2144 - accuracy: 0.5922\n",
            "Epoch 134/200\n",
            "20/20 [==============================] - 17s 841ms/step - loss: 1.2310 - accuracy: 0.5802\n",
            "Epoch 135/200\n",
            "20/20 [==============================] - 17s 843ms/step - loss: 1.2282 - accuracy: 0.5943\n",
            "Epoch 136/200\n",
            "20/20 [==============================] - 17s 835ms/step - loss: 1.1964 - accuracy: 0.5881\n",
            "Epoch 137/200\n",
            "20/20 [==============================] - 17s 840ms/step - loss: 1.1969 - accuracy: 0.5938\n",
            "Epoch 138/200\n",
            "20/20 [==============================] - 17s 848ms/step - loss: 1.2205 - accuracy: 0.5833\n",
            "Epoch 139/200\n",
            "20/20 [==============================] - 17s 836ms/step - loss: 1.1740 - accuracy: 0.6101\n",
            "Epoch 140/200\n",
            "20/20 [==============================] - 17s 844ms/step - loss: 1.2103 - accuracy: 0.5797\n",
            "Epoch 141/200\n",
            "20/20 [==============================] - 17s 839ms/step - loss: 1.1503 - accuracy: 0.6226\n",
            "Epoch 142/200\n",
            "20/20 [==============================] - 18s 911ms/step - loss: 1.1607 - accuracy: 0.6109\n",
            "Epoch 143/200\n",
            "20/20 [==============================] - 17s 839ms/step - loss: 1.1491 - accuracy: 0.6203\n",
            "Epoch 144/200\n",
            "20/20 [==============================] - 17s 837ms/step - loss: 1.1124 - accuracy: 0.6132\n",
            "Epoch 145/200\n",
            "20/20 [==============================] - 17s 847ms/step - loss: 1.1541 - accuracy: 0.6022\n",
            "Epoch 146/200\n",
            "20/20 [==============================] - 17s 839ms/step - loss: 1.1450 - accuracy: 0.6242\n",
            "Epoch 147/200\n",
            "20/20 [==============================] - 17s 842ms/step - loss: 1.1606 - accuracy: 0.6116\n",
            "Epoch 148/200\n",
            "20/20 [==============================] - 17s 843ms/step - loss: 1.1690 - accuracy: 0.6274\n",
            "Epoch 149/200\n",
            "20/20 [==============================] - 17s 839ms/step - loss: 1.0670 - accuracy: 0.6431\n",
            "Epoch 150/200\n",
            "20/20 [==============================] - 17s 842ms/step - loss: 1.1139 - accuracy: 0.6132\n",
            "Epoch 151/200\n",
            "20/20 [==============================] - 17s 864ms/step - loss: 1.1199 - accuracy: 0.6195\n",
            "Epoch 152/200\n",
            "20/20 [==============================] - 17s 836ms/step - loss: 1.0625 - accuracy: 0.6352\n",
            "Epoch 153/200\n",
            "20/20 [==============================] - 17s 840ms/step - loss: 1.1318 - accuracy: 0.6022\n",
            "Epoch 154/200\n",
            "20/20 [==============================] - 18s 909ms/step - loss: 1.0936 - accuracy: 0.6297\n",
            "Epoch 155/200\n",
            "20/20 [==============================] - 17s 845ms/step - loss: 1.1076 - accuracy: 0.6313\n",
            "Epoch 156/200\n",
            "20/20 [==============================] - 17s 846ms/step - loss: 1.1047 - accuracy: 0.6509\n",
            "Epoch 157/200\n",
            "20/20 [==============================] - 17s 842ms/step - loss: 1.0245 - accuracy: 0.6494\n",
            "Epoch 158/200\n",
            "20/20 [==============================] - 17s 841ms/step - loss: 1.0411 - accuracy: 0.6703\n",
            "Epoch 159/200\n",
            "20/20 [==============================] - 17s 836ms/step - loss: 1.0523 - accuracy: 0.6698\n",
            "Epoch 160/200\n",
            "20/20 [==============================] - 17s 843ms/step - loss: 1.0915 - accuracy: 0.6195\n",
            "Epoch 161/200\n",
            "20/20 [==============================] - 17s 849ms/step - loss: 1.0122 - accuracy: 0.6604\n",
            "Epoch 162/200\n",
            "20/20 [==============================] - 17s 834ms/step - loss: 1.0000 - accuracy: 0.6604\n",
            "Epoch 163/200\n",
            "20/20 [==============================] - 17s 851ms/step - loss: 0.9513 - accuracy: 0.6719\n",
            "Epoch 164/200\n",
            "20/20 [==============================] - 17s 836ms/step - loss: 1.0399 - accuracy: 0.6375\n",
            "Epoch 165/200\n",
            "20/20 [==============================] - 17s 833ms/step - loss: 1.0049 - accuracy: 0.6541\n",
            "Epoch 166/200\n",
            "20/20 [==============================] - 18s 908ms/step - loss: 1.0129 - accuracy: 0.6682\n",
            "Epoch 167/200\n",
            "20/20 [==============================] - 17s 836ms/step - loss: 1.0930 - accuracy: 0.6195\n",
            "Epoch 168/200\n",
            "20/20 [==============================] - 17s 843ms/step - loss: 0.9779 - accuracy: 0.6531\n",
            "Epoch 169/200\n",
            "20/20 [==============================] - 17s 830ms/step - loss: 0.9477 - accuracy: 0.6714\n",
            "Epoch 170/200\n",
            "20/20 [==============================] - 17s 836ms/step - loss: 0.9494 - accuracy: 0.6682\n",
            "Epoch 171/200\n",
            "20/20 [==============================] - 17s 840ms/step - loss: 0.9334 - accuracy: 0.6625\n",
            "Epoch 172/200\n",
            "20/20 [==============================] - 17s 832ms/step - loss: 1.0069 - accuracy: 0.6572\n",
            "Epoch 173/200\n",
            "20/20 [==============================] - 17s 839ms/step - loss: 1.0048 - accuracy: 0.6588\n",
            "Epoch 174/200\n",
            "20/20 [==============================] - 17s 845ms/step - loss: 0.9845 - accuracy: 0.6703\n",
            "Epoch 175/200\n",
            "20/20 [==============================] - 17s 838ms/step - loss: 0.8927 - accuracy: 0.6984\n",
            "Epoch 176/200\n",
            "20/20 [==============================] - 17s 836ms/step - loss: 0.9057 - accuracy: 0.6981\n",
            "Epoch 177/200\n",
            "20/20 [==============================] - 17s 841ms/step - loss: 0.9439 - accuracy: 0.6997\n",
            "Epoch 178/200\n",
            "20/20 [==============================] - 17s 839ms/step - loss: 0.9528 - accuracy: 0.6635\n",
            "Epoch 179/200\n",
            "20/20 [==============================] - 18s 905ms/step - loss: 0.9488 - accuracy: 0.6812\n",
            "Epoch 180/200\n",
            "20/20 [==============================] - 17s 847ms/step - loss: 0.9997 - accuracy: 0.6516\n",
            "Epoch 181/200\n",
            "20/20 [==============================] - 17s 845ms/step - loss: 0.9648 - accuracy: 0.6525\n",
            "Epoch 182/200\n",
            "20/20 [==============================] - 17s 837ms/step - loss: 0.9377 - accuracy: 0.6761\n",
            "Epoch 183/200\n",
            "20/20 [==============================] - 17s 839ms/step - loss: 0.9079 - accuracy: 0.6934\n",
            "Epoch 184/200\n",
            "20/20 [==============================] - 17s 831ms/step - loss: 0.9431 - accuracy: 0.6698\n",
            "Epoch 185/200\n",
            "20/20 [==============================] - 17s 840ms/step - loss: 0.9001 - accuracy: 0.6906\n",
            "Epoch 186/200\n",
            "20/20 [==============================] - 17s 844ms/step - loss: 0.9257 - accuracy: 0.6969\n",
            "Epoch 187/200\n",
            "20/20 [==============================] - 17s 829ms/step - loss: 0.8447 - accuracy: 0.7123\n",
            "Epoch 188/200\n",
            "20/20 [==============================] - 17s 831ms/step - loss: 0.8729 - accuracy: 0.7075\n",
            "Epoch 189/200\n",
            "20/20 [==============================] - 17s 835ms/step - loss: 0.9189 - accuracy: 0.6761\n",
            "Epoch 190/200\n",
            "20/20 [==============================] - 17s 832ms/step - loss: 0.8742 - accuracy: 0.6997\n",
            "Epoch 191/200\n",
            "20/20 [==============================] - 17s 831ms/step - loss: 0.8771 - accuracy: 0.6981\n",
            "Epoch 192/200\n",
            "20/20 [==============================] - 18s 843ms/step - loss: 0.8339 - accuracy: 0.7266\n",
            "Epoch 193/200\n",
            "20/20 [==============================] - 17s 839ms/step - loss: 0.8565 - accuracy: 0.6984\n",
            "Epoch 194/200\n",
            "20/20 [==============================] - 17s 843ms/step - loss: 0.9014 - accuracy: 0.6903\n",
            "Epoch 195/200\n",
            "20/20 [==============================] - 17s 840ms/step - loss: 0.8424 - accuracy: 0.7217\n",
            "Epoch 196/200\n",
            "20/20 [==============================] - 17s 846ms/step - loss: 0.8587 - accuracy: 0.7154\n",
            "Epoch 197/200\n",
            "20/20 [==============================] - 17s 842ms/step - loss: 0.9137 - accuracy: 0.7078\n",
            "Epoch 198/200\n",
            "20/20 [==============================] - 17s 838ms/step - loss: 0.7991 - accuracy: 0.7217\n",
            "Epoch 199/200\n",
            "20/20 [==============================] - 17s 843ms/step - loss: 0.8214 - accuracy: 0.7217\n",
            "Epoch 200/200\n",
            "20/20 [==============================] - 17s 835ms/step - loss: 0.9114 - accuracy: 0.7013\n"
          ]
        }
      ]
    },
    {
      "cell_type": "code",
      "source": [
        "from keras.models import load_model\n",
        "model.save('/content/drive/MyDrive/projectAI/audio_model')"
      ],
      "metadata": {
        "colab": {
          "base_uri": "https://localhost:8080/"
        },
        "id": "Arx4HLmuWEAE",
        "outputId": "78830aa5-e897-4f1b-f8d6-017c87dafe48"
      },
      "execution_count": null,
      "outputs": [
        {
          "output_type": "stream",
          "name": "stdout",
          "text": [
            "INFO:tensorflow:Assets written to: /content/drive/MyDrive/projectAI/audio_model/assets\n"
          ]
        }
      ]
    },
    {
      "cell_type": "markdown",
      "source": [
        "Kết quả"
      ],
      "metadata": {
        "id": "azYNsTrZefBC"
      }
    },
    {
      "cell_type": "code",
      "source": [
        "metrics = history.history\n",
        "plt.plot(history.epoch, metrics['loss'], metrics['accuracy'])\n",
        "plt.legend(['loss', 'accuracy'])\n",
        "plt.show()"
      ],
      "metadata": {
        "colab": {
          "base_uri": "https://localhost:8080/",
          "height": 265
        },
        "id": "45GdJBK9VzQE",
        "outputId": "2f3c34d8-e778-4fa9-a66e-276d8b5b423c"
      },
      "execution_count": null,
      "outputs": [
        {
          "output_type": "display_data",
          "data": {
            "text/plain": [
              "<Figure size 432x288 with 1 Axes>"
            ],
            "image/png": "[encoded data removed]"
          },
          "metadata": {
            "needs_background": "light"
          }
        }
      ]
    }
  ]
}